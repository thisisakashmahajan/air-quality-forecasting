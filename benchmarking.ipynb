{
 "cells": [
  {
   "cell_type": "markdown",
   "id": "5994e247",
   "metadata": {},
   "source": [
    "### Benchmarking the Random Forest Regressor on Urban Air Quality dataset"
   ]
  },
  {
   "cell_type": "markdown",
   "id": "111e3774",
   "metadata": {},
   "source": [
    "The Random Forest Regressor outperformed the best when it is compared with ARIMA, Support Vector Regressor, XGBoost Regressor, and Decision Tree Regressor. In this code:\n",
    "- Load the urban air quality dataset\n",
    "- Create a Random Forest Regressor\n",
    "- Test against long and short term forecasting\n",
    "- Plot results"
   ]
  },
  {
   "cell_type": "markdown",
   "id": "eaab00d3",
   "metadata": {},
   "source": [
    "### 1. Load dataset"
   ]
  },
  {
   "cell_type": "code",
   "execution_count": 1,
   "id": "0cb1929b",
   "metadata": {},
   "outputs": [
    {
     "data": {
      "text/html": [
       "<div>\n",
       "<style scoped>\n",
       "    .dataframe tbody tr th:only-of-type {\n",
       "        vertical-align: middle;\n",
       "    }\n",
       "\n",
       "    .dataframe tbody tr th {\n",
       "        vertical-align: top;\n",
       "    }\n",
       "\n",
       "    .dataframe thead th {\n",
       "        text-align: right;\n",
       "    }\n",
       "</style>\n",
       "<table border=\"1\" class=\"dataframe\">\n",
       "  <thead>\n",
       "    <tr style=\"text-align: right;\">\n",
       "      <th></th>\n",
       "      <th>PM25</th>\n",
       "      <th>PM10</th>\n",
       "      <th>NO2</th>\n",
       "      <th>CO</th>\n",
       "      <th>O3</th>\n",
       "      <th>SO2</th>\n",
       "    </tr>\n",
       "    <tr>\n",
       "      <th>date</th>\n",
       "      <th></th>\n",
       "      <th></th>\n",
       "      <th></th>\n",
       "      <th></th>\n",
       "      <th></th>\n",
       "      <th></th>\n",
       "    </tr>\n",
       "  </thead>\n",
       "  <tbody>\n",
       "    <tr>\n",
       "      <th>2014-05-01 00:00:00</th>\n",
       "      <td>138.0</td>\n",
       "      <td>159.4</td>\n",
       "      <td>56.3</td>\n",
       "      <td>0.9</td>\n",
       "      <td>50.8</td>\n",
       "      <td>17.2</td>\n",
       "    </tr>\n",
       "    <tr>\n",
       "      <th>2014-05-01 01:00:00</th>\n",
       "      <td>124.0</td>\n",
       "      <td>163.9</td>\n",
       "      <td>38.7</td>\n",
       "      <td>0.9</td>\n",
       "      <td>51.1</td>\n",
       "      <td>17.9</td>\n",
       "    </tr>\n",
       "    <tr>\n",
       "      <th>2014-05-01 02:00:00</th>\n",
       "      <td>127.0</td>\n",
       "      <td>148.4</td>\n",
       "      <td>55.6</td>\n",
       "      <td>1.0</td>\n",
       "      <td>27.2</td>\n",
       "      <td>16.6</td>\n",
       "    </tr>\n",
       "    <tr>\n",
       "      <th>2014-05-01 03:00:00</th>\n",
       "      <td>129.0</td>\n",
       "      <td>145.6</td>\n",
       "      <td>65.7</td>\n",
       "      <td>1.0</td>\n",
       "      <td>9.7</td>\n",
       "      <td>16.7</td>\n",
       "    </tr>\n",
       "    <tr>\n",
       "      <th>2014-05-01 04:00:00</th>\n",
       "      <td>119.0</td>\n",
       "      <td>119.3</td>\n",
       "      <td>66.9</td>\n",
       "      <td>1.0</td>\n",
       "      <td>2.0</td>\n",
       "      <td>16.5</td>\n",
       "    </tr>\n",
       "  </tbody>\n",
       "</table>\n",
       "</div>"
      ],
      "text/plain": [
       "                      PM25   PM10   NO2   CO    O3   SO2\n",
       "date                                                    \n",
       "2014-05-01 00:00:00  138.0  159.4  56.3  0.9  50.8  17.2\n",
       "2014-05-01 01:00:00  124.0  163.9  38.7  0.9  51.1  17.9\n",
       "2014-05-01 02:00:00  127.0  148.4  55.6  1.0  27.2  16.6\n",
       "2014-05-01 03:00:00  129.0  145.6  65.7  1.0   9.7  16.7\n",
       "2014-05-01 04:00:00  119.0  119.3  66.9  1.0   2.0  16.5"
      ]
     },
     "execution_count": 1,
     "metadata": {},
     "output_type": "execute_result"
    }
   ],
   "source": [
    "import invutility as inv\n",
    "import pandas as pd\n",
    "\n",
    "# Load dataset using the pandas\n",
    "df = pd.read_csv('data/urban.csv', parse_dates = ['date'])\n",
    "df.set_index('date', inplace = True)\n",
    "\n",
    "# Fill the empty values of PM25 column with median of itself\n",
    "df.PM25 = df.PM25.fillna(df.PM25.median())\n",
    "\n",
    "df.head()"
   ]
  },
  {
   "cell_type": "markdown",
   "id": "92fddc42",
   "metadata": {},
   "source": [
    "### Preparing the dataset for Random Forest Regressor"
   ]
  },
  {
   "cell_type": "code",
   "execution_count": 2,
   "id": "643ca3f9",
   "metadata": {},
   "outputs": [],
   "source": [
    "from sklearn.model_selection import train_test_split\n",
    "\n",
    "x, y = inv.build_matrix(df.PM25.values, look_back = 20)\n",
    "\n",
    "days = 250 # Forecasting will be done for next 250 days\n",
    "x_train = x[:-1 * days]\n",
    "y_train = y[:-1 * days]\n",
    "\n",
    "x_test = x[-1 * days:]\n",
    "y_test = y[-1 * days:]"
   ]
  },
  {
   "cell_type": "markdown",
   "id": "49cdb6b6",
   "metadata": {},
   "source": [
    "### Testing against Random Forest Regressor"
   ]
  },
  {
   "cell_type": "code",
   "execution_count": 3,
   "id": "fc073057",
   "metadata": {},
   "outputs": [
    {
     "name": "stdout",
     "output_type": "stream",
     "text": [
      "MAE: 10.86\n",
      "RMSE: 15.41\n"
     ]
    }
   ],
   "source": [
    "from sklearn.ensemble import RandomForestRegressor\n",
    "\n",
    "model = RandomForestRegressor()\n",
    "model.fit(x_train, y_train)\n",
    "predictions = model.predict(x_test)\n",
    "inv.metrics(y_test, predictions)"
   ]
  },
  {
   "cell_type": "markdown",
   "id": "c318ca59",
   "metadata": {},
   "source": [
    "### Plotting the predictions"
   ]
  },
  {
   "cell_type": "code",
   "execution_count": 4,
   "id": "0259762b",
   "metadata": {},
   "outputs": [
    {
     "data": {
      "image/png": "[encoded data removed]",
      "text/plain": [
       "<Figure size 1080x360 with 1 Axes>"
      ]
     },
     "metadata": {
      "needs_background": "light"
     },
     "output_type": "display_data"
    }
   ],
   "source": [
    "import numpy as np\n",
    "import matplotlib.pyplot as plt\n",
    "\n",
    "plt.figure(figsize = (15, 5))\n",
    "plt.plot(y_test[-50:], label = 'Original', marker = 'o')\n",
    "plt.plot(predictions[-50:], label = 'RFR', marker = 'o')\n",
    "\n",
    "plt.legend()\n",
    "plt.xlabel('Period of forecast')\n",
    "plt.ylabel('PM2.5 Concentration')\n",
    "plt.show()"
   ]
  },
  {
   "cell_type": "markdown",
   "id": "995a75ee",
   "metadata": {},
   "source": [
    "Complete"
   ]
  }
 ],
 "metadata": {
  "kernelspec": {
   "display_name": "Python 3",
   "language": "python",
   "name": "python3"
  },
  "language_info": {
   "codemirror_mode": {
    "name": "ipython",
    "version": 3
   },
   "file_extension": ".py",
   "mimetype": "text/x-python",
   "name": "python",
   "nbconvert_exporter": "python",
   "pygments_lexer": "ipython3",
   "version": "3.8.8"
  }
 },
 "nbformat": 4,
 "nbformat_minor": 5
}
