{
 "cells": [
  {
   "cell_type": "markdown",
   "id": "fc2d4ef2",
   "metadata": {},
   "source": [
    "## Choosing the best fit model for time series forecasting on air quality data"
   ]
  },
  {
   "cell_type": "markdown",
   "id": "b95176b0",
   "metadata": {},
   "source": [
    "We compare four variants of ARIMA:\n",
    "   - First Order Autoregressive (1, 0, 0)\n",
    "   - Damped-trend linear exponential smoothing (1, 1, 2)\n",
    "   - Differenced first order autoregresive (1, 1, 0)\n",
    "   - Seasonal ARIMA (0, 1, 1) x (0, 1, 1, 12)\n",
    "   \n",
    "And, four machine learning methods:\n",
    "   - Support Vector Regressor\n",
    "   - XGBoost Regressor\n",
    "   - Decision Tree Regressor\n",
    "   - Random Forest Regressor\n",
    "\n",
    "**The purpose of this experiment is to find the best fitted model for the air quality forecasting**"
   ]
  },
  {
   "cell_type": "code",
   "execution_count": null,
   "id": "d7fa29b5",
   "metadata": {},
   "outputs": [],
   "source": [
    "from sklearn.metrics import mean_absolute_error\n",
    "from sklearn.metrics import mean_squared_error\n",
    "from math import sqrt\n",
    "from statsmodels.tsa.arima.model import ARIMA\n",
    "from sklearn.model_selection import train_test_split\n",
    "import invutility as inv\n",
    "\n",
    "from sklearn.svm import SVR\n",
    "from xgboost import XGBRegressor\n",
    "from sklearn.tree import DecisionTreeRegressor\n",
    "from sklearn.ensemble import RandomForestRegressor"
   ]
  },
  {
   "cell_type": "markdown",
   "id": "55e46ffd",
   "metadata": {},
   "source": [
    "### Load the dataset"
   ]
  },
  {
   "cell_type": "code",
   "execution_count": null,
   "id": "9e87d8b0",
   "metadata": {},
   "outputs": [],
   "source": [
    "import pandas as pd\n",
    "import matplotlib.pyplot as plt\n",
    "\n",
    "df = pd.read_csv('data/delhi.csv', parse_dates = ['date'])\n",
    "df.set_index('date', inplace = True)\n",
    "try:\n",
    "    df.index.freq = 'D'\n",
    "except:\n",
    "    print('Cannot change frequency')\n",
    "df.head()"
   ]
  },
  {
   "cell_type": "markdown",
   "id": "c6656602",
   "metadata": {},
   "source": [
    "### ARIMA Forecast"
   ]
  },
  {
   "cell_type": "code",
   "execution_count": null,
   "id": "cc1b5bc6",
   "metadata": {},
   "outputs": [],
   "source": [
    "models = {'first_order_autoregressive':(1, 0, 0), 'damped_trend_lin_exp_smoothing':(1, 1, 2),\n",
    "         'differenced_first_order_autoregressive':(1, 1, 0), 'sarima':(0, 1, 1, 12)}"
   ]
  },
  {
   "cell_type": "code",
   "execution_count": null,
   "id": "13e5281d",
   "metadata": {},
   "outputs": [],
   "source": [
    "model = ARIMA(df.PM25, order = models['first_order_autoregressive'], freq = 'D')\n",
    "model_fit = model.fit()\n",
    "pred = model_fit.predict()\n",
    "inv.metrics(df.PM25, pred)"
   ]
  },
  {
   "cell_type": "markdown",
   "id": "90905387",
   "metadata": {},
   "source": [
    "### Machine Learning Forecast"
   ]
  },
  {
   "cell_type": "code",
   "execution_count": null,
   "id": "d204dca3",
   "metadata": {},
   "outputs": [],
   "source": [
    "x, y = inv.build_matrix(df.PM25.values, look_back = 20)\n",
    "x_train, x_test, y_train, y_test = train_test_split(x, y, test_size = 0.2, shuffle = False)"
   ]
  },
  {
   "cell_type": "code",
   "execution_count": null,
   "id": "c94f8d1e",
   "metadata": {},
   "outputs": [],
   "source": [
    "models = {'svr':SVR(kernel = 'rbf'), 'xgb':XGBRegressor(), 'dtr':DecisionTreeRegressor(),\n",
    "         'rfr':RandomForestRegressor()}"
   ]
  },
  {
   "cell_type": "markdown",
   "id": "f8b0ad64",
   "metadata": {},
   "source": [
    "**Note:** Change the name of model to see effect"
   ]
  },
  {
   "cell_type": "code",
   "execution_count": null,
   "id": "c0863833",
   "metadata": {},
   "outputs": [],
   "source": [
    "model = models['svr'] # Try changing name of model. Pick name from models dictionary\n",
    "original, predictions = inv.forecastML(model, x_train, y_train, x_test, y_test)\n",
    "inv.metrics(original, predictions)"
   ]
  },
  {
   "cell_type": "markdown",
   "id": "0f58fb44",
   "metadata": {},
   "source": [
    "Complete."
   ]
  }
 ],
 "metadata": {
  "kernelspec": {
   "display_name": "Python 3",
   "language": "python",
   "name": "python3"
  },
  "language_info": {
   "codemirror_mode": {
    "name": "ipython",
    "version": 3
   },
   "file_extension": ".py",
   "mimetype": "text/x-python",
   "name": "python",
   "nbconvert_exporter": "python",
   "pygments_lexer": "ipython3",
   "version": "3.8.8"
  }
 },
 "nbformat": 4,
 "nbformat_minor": 5
}
